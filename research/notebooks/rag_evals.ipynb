{
 "cells": [
  {
   "cell_type": "markdown",
   "metadata": {},
   "source": [
    "# RAG evaluation: \n",
    "- Retrieval: Primarly examine the recall of the RAG system.\n",
    "- Generation: Secondarily examine the generation quality of the RAG system.\n",
    "\n",
    "\n",
    "### Retrieval\n",
    "Context Precision & Context Recall\n",
    "\n",
    "### Generation\n",
    "Faithfulness\n"
   ]
  },
  {
   "cell_type": "markdown",
   "metadata": {},
   "source": [
    "# 1. Evaluating Retrieval"
   ]
  },
  {
   "cell_type": "code",
   "execution_count": 5,
   "metadata": {},
   "outputs": [],
   "source": [
    "import sys\n",
    "from pathlib import Path\n",
    "\n",
    "from dotenv import load_dotenv\n",
    "\n",
    "load_dotenv()\n",
    "\n",
    "current_dir = Path.cwd().parent\n",
    "parent_dir = current_dir.parent\n",
    "\n",
    "sys.path.append(str(parent_dir))\n",
    "from backend.brain.document_processing import load_pdf, chunk_docs\n",
    "from utils import QuestionAnswerPair, generate_question\n",
    "from langchain_openai.embeddings import OpenAIEmbeddings\n",
    "from langchain_community.vectorstores import InMemoryVectorStore\n",
    "\n",
    "\n",
    "# load & chunk data \n",
    "pdf_path = (\n",
    "        parent_dir / \"backend\" / \"docs\" / \"Bitcoin - A Peer-to-Peer Electronic Cash System.pdf\"\n",
    "    )\n",
    "\n",
    "pages = load_pdf(pdf_path)\n",
    "docs = chunk_docs(pages)\n",
    "\n",
    "# create embeddings \n",
    "vector_store = InMemoryVectorStore(\n",
    "    embedding=OpenAIEmbeddings(model=\"text-embedding-3-small\"),\n",
    ")\n",
    "vector_store.add_documents(docs)\n",
    "\n",
    "# generate questions\n",
    "qa_pairs = []\n",
    "\n",
    "for doc in docs[:10]:\n",
    "    question = generate_question(doc.page_content)\n",
    "    qa_pairs.append(\n",
    "        QuestionAnswerPair(\n",
    "            question=question,\n",
    "            source_chunk=doc.page_content,\n",
    "            chunk_index=doc.metadata[\"page\"],\n",
    "        )\n",
    "    )"
   ]
  },
  {
   "cell_type": "code",
   "execution_count": 6,
   "metadata": {},
   "outputs": [
    {
     "name": "stdout",
     "output_type": "stream",
     "text": [
      "{'precision': [0.3333333333333333, 0.3333333333333333, 0.3333333333333333, 0.3333333333333333, 0.0, 0.3333333333333333, 0.3333333333333333, 0.3333333333333333, 0.3333333333333333, 0.3333333333333333], 'recall': [1, 1, 1, 1, 0, 1, 1, 1, 1, 1], 'mrr': [1.0, 1.0, 0.3333333333333333, 1.0, 0.25, 1.0, 1.0, 1.0, 1.0, 0.5]}\n",
      "{'avg_precision': 0.3, 'avg_recall': 0.9, 'avg_mrr': 0.8083333333333332}\n"
     ]
    }
   ],
   "source": [
    "from utils import calculate_metric_avg, evaluate_retrieval\n",
    "\n",
    "k = 3\n",
    "retriever = vector_store.as_retriever(k=k)\n",
    "\n",
    "metrics = evaluate_retrieval(qa_pairs, retriever, k=k)\n",
    "results = calculate_metric_avg(metrics)\n",
    "\n",
    "print(metrics)\n",
    "print(results)"
   ]
  },
  {
   "cell_type": "markdown",
   "metadata": {},
   "source": [
    "# 2. Evaluating Generation\n",
    "\n",
    "1. Correctness: Response vs. Reference Answer\n",
    "2. Relevance: Response vs. Input Question\n",
    "3. Groundedness: Response vs. Retrieved Chunks\n",
    "4. Retrieval Relevance: Retrieved Chunks vs. Input Question"
   ]
  },
  {
   "cell_type": "code",
   "execution_count": null,
   "metadata": {},
   "outputs": [],
   "source": []
  }
 ],
 "metadata": {
  "kernelspec": {
   "display_name": "pdf-chat-research-DGa1CnBU-py3.13",
   "language": "python",
   "name": "python3"
  },
  "language_info": {
   "codemirror_mode": {
    "name": "ipython",
    "version": 3
   },
   "file_extension": ".py",
   "mimetype": "text/x-python",
   "name": "python",
   "nbconvert_exporter": "python",
   "pygments_lexer": "ipython3",
   "version": "3.13.0"
  }
 },
 "nbformat": 4,
 "nbformat_minor": 2
}

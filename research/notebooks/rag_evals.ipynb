{
 "cells": [
  {
   "cell_type": "markdown",
   "metadata": {},
   "source": [
    "# RAG evaluation: \n",
    "- Retrieval: Primarly examine the recall of the RAG system.\n",
    "- Generation: Secondarily examine the generation quality of the RAG system.\n",
    "\n",
    "\n",
    "### Retrieval\n",
    "Context Precision & Context Recall\n",
    "\n",
    "### Generation\n",
    "Faithfulness\n"
   ]
  },
  {
   "cell_type": "markdown",
   "metadata": {},
   "source": [
    "# 1. Evaluating Retrieval"
   ]
  },
  {
   "cell_type": "code",
   "execution_count": 1,
   "metadata": {},
   "outputs": [],
   "source": [
    "import sys\n",
    "from pathlib import Path\n",
    "\n",
    "from dotenv import load_dotenv\n",
    "\n",
    "load_dotenv()\n",
    "\n",
    "current_dir = Path.cwd().parent\n",
    "parent_dir = current_dir.parent\n",
    "\n",
    "sys.path.append(str(parent_dir))\n",
    "from backend.brain.document_processing import DocumentProcessor\n",
    "from research.utils import QuestionAnswerPair, generate_question, save_qa_pairs, load_qa_pairs\n",
    "from langchain_openai.embeddings import OpenAIEmbeddings\n",
    "from langchain_community.vectorstores import InMemoryVectorStore\n",
    "\n",
    "\n",
    "# load & chunk data \n",
    "pdf_path = (\n",
    "        parent_dir / \"backend\" / \"docs\" / \"Bitcoin - A Peer-to-Peer Electronic Cash System.pdf\"\n",
    "    )\n",
    "\n",
    "processor = DocumentProcessor()\n",
    "pages = processor.load_pdf(pdf_path)\n",
    "chunks = processor.chunk_docs(pages)\n",
    "\n",
    "# create embeddings \n",
    "vector_store = InMemoryVectorStore(\n",
    "    embedding=OpenAIEmbeddings(model=\"text-embedding-3-small\"),\n",
    ")\n",
    "vector_store.add_documents(chunks)\n",
    "\n",
    "# generate questions\n",
    "qa_pairs = []\n",
    "\n",
    "for idx, doc in enumerate(chunks[:20]):\n",
    "    question = generate_question(doc.page_content)\n",
    "    qa_pairs.append(\n",
    "        QuestionAnswerPair(\n",
    "            question=question,\n",
    "            source_chunk=doc.page_content,\n",
    "            chunk_index=idx,\n",
    "        )\n",
    "    )\n",
    "\n"
   ]
  },
  {
   "cell_type": "code",
   "execution_count": 6,
   "metadata": {},
   "outputs": [],
   "source": [
    "# save qa_pairs to file\n",
    "parent_dir = Path.cwd().parent\n",
    "data_dir = parent_dir / \"research\" / \"data\"\n",
    "save_qa_pairs(qa_pairs, data_dir / \"qa_pairs.json\")\n"
   ]
  },
  {
   "cell_type": "code",
   "execution_count": 7,
   "metadata": {},
   "outputs": [
    {
     "name": "stdout",
     "output_type": "stream",
     "text": [
      "[QuestionAnswerPair(question=AIMessage(content='How does Bitcoin allow online payments to be sent directly from one party to another without the need for a financial institution?', additional_kwargs={}, response_metadata={}), source_chunk='Bitcoin: A Peer-to-Peer Electronic Cash System\\nSatoshi Nakamoto\\nsatoshin@gmx.com\\nwww.bitcoin.org\\nAbstract.  A purely peer-to-peer version of electronic cash would allow online \\npayments to be sent directly from one party to another without going through a \\nfinancial institution.  Digital signatures provide part of the solution, but the main \\nbenefits are lost if a trusted third party is still required to prevent double-spending', chunk_index=0, retrieved_chunks=None, answer=None), QuestionAnswerPair(question=AIMessage(content='How does using a peer-to-peer network eliminate the need for a trusted third party to prevent double-spending?', additional_kwargs={}, response_metadata={}), source_chunk='.  Digital signatures provide part of the solution, but the main \\nbenefits are lost if a trusted third party is still required to prevent double-spending. \\nWe propose a solution to the double-spending problem using a peer-to-peer network. \\nThe network timestamps transactions by hashing them into an ongoing chain of \\nhash-based proof-of-work, forming a record that cannot be changed without redoing \\nthe proof-of-work', chunk_index=0, retrieved_chunks=None, answer=None), QuestionAnswerPair(question=AIMessage(content='How does the network ensure the security of transactions and prevent attacks?', additional_kwargs={}, response_metadata={}), source_chunk=\". \\nThe network timestamps transactions by hashing them into an ongoing chain of \\nhash-based proof-of-work, forming a record that cannot be changed without redoing \\nthe proof-of-work.  The longest chain not only serves as proof of the sequence of \\nevents witnessed, but proof that it came from the largest pool of CPU power.  As \\nlong as a majority of CPU power is controlled by nodes that are not cooperating to \\nattack the network, they'll generate the longest chain and outpace attackers\", chunk_index=0, retrieved_chunks=None, answer=None), QuestionAnswerPair(question=AIMessage(content='How does the decentralized nature of nodes in the network contribute to its security against potential attacks?', additional_kwargs={}, response_metadata={}), source_chunk=\".  As \\nlong as a majority of CPU power is controlled by nodes that are not cooperating to \\nattack the network, they'll generate the longest chain and outpace attackers.  The \\nnetwork itself requires minimal structure.  Messages are broadcast on a best effort \\nbasis, and nodes can leave and rejoin the network at will, accepting the longest \\nproof-of-work chain as proof of what happened while they were gone.\\n1\", chunk_index=0, retrieved_chunks=None, answer=None), QuestionAnswerPair(question=AIMessage(content='How do nodes in a network provide proof of what happened while they were offline?', additional_kwargs={}, response_metadata={}), source_chunk='.  Messages are broadcast on a best effort \\nbasis, and nodes can leave and rejoin the network at will, accepting the longest \\nproof-of-work chain as proof of what happened while they were gone.\\n1.\\nIntroduction\\nCommerce on the Internet has come to rely almost exclusively on financial institutions serving as \\ntrusted third parties to process electronic payments', chunk_index=0, retrieved_chunks=None, answer=None), QuestionAnswerPair(question=AIMessage(content='What are the inherent weaknesses of the trust based model in electronic payments?', additional_kwargs={}, response_metadata={}), source_chunk='.\\n1.\\nIntroduction\\nCommerce on the Internet has come to rely almost exclusively on financial institutions serving as \\ntrusted third parties to process electronic payments.  While the system works well enough for \\nmost  transactions,  it  still  suffers  from  the  inherent  weaknesses  of  the  trust  based  model. \\nCompletely non-reversible transactions are not really possible, since financial institutions cannot \\navoid  mediating  disputes', chunk_index=0, retrieved_chunks=None, answer=None), QuestionAnswerPair(question=AIMessage(content='How do financial institutions play a role in mediating disputes to prevent completely non-reversible transactions?', additional_kwargs={}, response_metadata={}), source_chunk='. \\nCompletely non-reversible transactions are not really possible, since financial institutions cannot \\navoid  mediating  disputes.   The  cost of mediation  increases  transaction  costs,  limiting  the \\nminimum practical transaction size and cutting off the possibility for small casual transactions, \\nand there is a broader cost in the loss of ability to make non-reversible payments for non-\\nreversible services.  With the possibility of reversal, the need for trust spreads', chunk_index=0, retrieved_chunks=None, answer=None), QuestionAnswerPair(question=AIMessage(content='How do merchants handle the issue of trust and fraud in online transactions?', additional_kwargs={}, response_metadata={}), source_chunk='.  With the possibility of reversal, the need for trust spreads.  Merchants must \\nbe wary of their customers, hassling them for more information than they would otherwise need. \\nA certain percentage of fraud is accepted as unavoidable.  These costs and payment uncertainties \\ncan be avoided in person by using physical currency, but no mechanism exists to make payments \\nover a communications channel without a trusted party', chunk_index=0, retrieved_chunks=None, answer=None), QuestionAnswerPair(question=AIMessage(content='How can electronic payment systems based on cryptographic proof reduce costs and payment uncertainties in transactions conducted over a communications channel?', additional_kwargs={}, response_metadata={}), source_chunk='.  These costs and payment uncertainties \\ncan be avoided in person by using physical currency, but no mechanism exists to make payments \\nover a communications channel without a trusted party.\\nWhat is needed is an electronic payment system based on cryptographic proof instead of trust, \\nallowing any two willing parties to transact directly with each other without the need for a trusted \\nthird party', chunk_index=0, retrieved_chunks=None, answer=None), QuestionAnswerPair(question=AIMessage(content='How does the proposed solution utilizing a peer-to-peer distributed timestamp server help address the issue of double-spending in transactions?', additional_kwargs={}, response_metadata={}), source_chunk='.  Transactions that are computationally impractical to reverse would protect sellers \\nfrom fraud, and routine escrow mechanisms could easily be implemented to protect buyers.  In \\nthis paper, we propose a solution to the double-spending problem using a peer-to-peer distributed \\ntimestamp server to generate computational proof of the chronological order of transactions', chunk_index=0, retrieved_chunks=None, answer=None), QuestionAnswerPair(question=AIMessage(content='How does the proposed solution in this paper address the double-spending problem in transactions?', additional_kwargs={}, response_metadata={}), source_chunk='.  In \\nthis paper, we propose a solution to the double-spending problem using a peer-to-peer distributed \\ntimestamp server to generate computational proof of the chronological order of transactions.  The \\nsystem  is  secure  as long  as  honest  nodes collectively  control more  CPU  power  than  any \\ncooperating group of attacker nodes.\\n1', chunk_index=0, retrieved_chunks=None, answer=None), QuestionAnswerPair(question=AIMessage(content='How can a payee verify the chain of ownership of an electronic coin if the owner could potentially double-spend the coin?', additional_kwargs={}, response_metadata={}), source_chunk=\"2.\\nTransactions\\nWe define an electronic coin as a chain of digital signatures.  Each owner transfers the coin to the \\nnext by digitally signing a hash of the previous transaction and the public key of the next owner \\nand adding these to the end of the coin.  A payee can verify the signatures to verify the chain of \\nownership.\\nThe problem of course is the payee can't verify that one of the owners did not double-spend \\nthe coin\", chunk_index=1, retrieved_chunks=None, answer=None), QuestionAnswerPair(question=AIMessage(content='How can a payee avoid the risk of receiving a double-spent coin without the involvement of a trusted central authority or mint?', additional_kwargs={}, response_metadata={}), source_chunk=\".  A payee can verify the signatures to verify the chain of \\nownership.\\nThe problem of course is the payee can't verify that one of the owners did not double-spend \\nthe coin.  A common solution is to introduce a trusted central authority, or mint, that checks every \\ntransaction for double spending.  After each transaction, the coin must be returned to the mint to \\nissue a new coin, and only coins issued directly from the mint are trusted not to be double-spent\", chunk_index=1, retrieved_chunks=None, answer=None), QuestionAnswerPair(question=AIMessage(content='How does the requirement for returning the coin to the mint after each transaction impact the trustworthiness of the monetary system?', additional_kwargs={}, response_metadata={}), source_chunk='.  After each transaction, the coin must be returned to the mint to \\nissue a new coin, and only coins issued directly from the mint are trusted not to be double-spent. \\nThe problem with this solution is that the fate of the entire money system depends on the \\ncompany running the mint, with every transaction having to go through them, just like a bank.\\nWe need a way for the payee to know that the previous owners did not sign any earlier \\ntransactions', chunk_index=1, retrieved_chunks=None, answer=None), QuestionAnswerPair(question=AIMessage(content='How can the payee confirm the absence of earlier signed transactions in the mint based model?', additional_kwargs={}, response_metadata={}), source_chunk=\".\\nWe need a way for the payee to know that the previous owners did not sign any earlier \\ntransactions.  For our purposes, the earliest transaction is the one that counts, so we don't care \\nabout later attempts to double-spend.  The only way to confirm the absence of a transaction is to \\nbe aware of all transactions.  In the mint based model, the mint was aware of all transactions and \\ndecided which arrived first\", chunk_index=1, retrieved_chunks=None, answer=None), QuestionAnswerPair(question=AIMessage(content='How can transactions be confirmed as absent without a trusted party in the mint based model?', additional_kwargs={}, response_metadata={}), source_chunk='.  The only way to confirm the absence of a transaction is to \\nbe aware of all transactions.  In the mint based model, the mint was aware of all transactions and \\ndecided which arrived first.  To accomplish this without a trusted party, transactions must be \\npublicly announced [1], and we need a system for participants to agree on a single history of the \\norder in which they were received', chunk_index=1, retrieved_chunks=None, answer=None), QuestionAnswerPair(question=AIMessage(content='How does a timestamp server provide proof that the majority of nodes agreed a transaction was the first received?', additional_kwargs={}, response_metadata={}), source_chunk='.  The payee needs proof that at the time of each transaction, the \\nmajority of nodes agreed it was the first received. \\n3.\\nTimestamp Server\\nThe solution we propose begins with a timestamp server.  A timestamp server works by taking a \\nhash of a block of items to be timestamped and widely publishing the hash, such as in a \\nnewspaper or Usenet post [2-5].  The timestamp proves that the data must have existed at the \\ntime, obviously, in order to get into the hash', chunk_index=1, retrieved_chunks=None, answer=None), QuestionAnswerPair(question=AIMessage(content='How do timestamps contribute to the security and integrity of data in a blockchain system?', additional_kwargs={}, response_metadata={}), source_chunk='.  The timestamp proves that the data must have existed at the \\ntime, obviously, in order to get into the hash.  Each timestamp includes the previous timestamp in \\nits hash, forming a chain, with each additional timestamp reinforcing the ones before it.\\n2\\nBlock\\nItem\\nItem\\n...\\nHash\\nBlock\\nItem\\nItem\\n..', chunk_index=1, retrieved_chunks=None, answer=None), QuestionAnswerPair(question=AIMessage(content='How does each additional timestamp reinforce the ones before it in the context of this text?', additional_kwargs={}, response_metadata={}), source_chunk=\".  Each timestamp includes the previous timestamp in \\nits hash, forming a chain, with each additional timestamp reinforcing the ones before it.\\n2\\nBlock\\nItem\\nItem\\n...\\nHash\\nBlock\\nItem\\nItem\\n...\\nHash\\nTransaction\\nOwner 1's\\nPublic Key\\nOwner 0's\\nSignature\\nHash\\nTransaction\\nOwner 2's\\nPublic Key\\nOwner 1's\\nSignature\\nHash\\n Verify\\nTransaction\\nOwner 3's\\nPublic Key\\nOwner 2's\\nSignature\\nHash\\n Verify\\nOwner 2's\\nPrivate Key\\nOwner 1's\\nPrivate Key\\nSign  \\nSign  \\nOwner 3's\\nPrivate Key\", chunk_index=1, retrieved_chunks=None, answer=None), QuestionAnswerPair(question=AIMessage(content=\"How does a proof-of-work system like Hashcash's Hashcash differ from using newspaper or Usenet posts for implementing a distributed timestamp server on a peer-to-peer basis?\", additional_kwargs={}, response_metadata={}), source_chunk=\"4.\\nProof-of-Work\\nTo implement a distributed timestamp server on a peer-to-peer basis, we will need to use a proof-\\nof-work system similar to Adam Back's Hashcash [6], rather than newspaper or Usenet posts. \\nThe proof-of-work involves scanning for a value that when hashed, such as with SHA-256, the \\nhash begins with a number of zero bits.  The average work required is exponential in the number \\nof zero bits required and can be verified by executing a single hash\", chunk_index=2, retrieved_chunks=None, answer=None)]\n"
     ]
    }
   ],
   "source": [
    "qa_pairs = load_qa_pairs(data_dir / \"qa_pairs.json\")\n",
    "print(qa_pairs)"
   ]
  },
  {
   "cell_type": "code",
   "execution_count": 6,
   "metadata": {},
   "outputs": [
    {
     "name": "stdout",
     "output_type": "stream",
     "text": [
      "{'precision': [0.3333333333333333, 0.3333333333333333, 0.3333333333333333, 0.3333333333333333, 0.0, 0.3333333333333333, 0.3333333333333333, 0.3333333333333333, 0.3333333333333333, 0.3333333333333333], 'recall': [1, 1, 1, 1, 0, 1, 1, 1, 1, 1], 'mrr': [1.0, 1.0, 0.3333333333333333, 1.0, 0.25, 1.0, 1.0, 1.0, 1.0, 0.5]}\n",
      "{'avg_precision': 0.3, 'avg_recall': 0.9, 'avg_mrr': 0.8083333333333332}\n"
     ]
    }
   ],
   "source": [
    "from utils import calculate_metric_avg, evaluate_retrieval\n",
    "\n",
    "k = 3\n",
    "retriever = vector_store.as_retriever(k=k)\n",
    "\n",
    "metrics = evaluate_retrieval(qa_pairs, retriever, k=k)\n",
    "results = calculate_metric_avg(metrics)\n",
    "\n",
    "print(metrics)\n",
    "print(results)"
   ]
  },
  {
   "cell_type": "markdown",
   "metadata": {},
   "source": [
    "# 2. Evaluating Generation\n",
    "\n",
    "1. Correctness: Response vs. Reference Answer\n",
    "2. Relevance: Response vs. Input Question\n",
    "3. Groundedness: Response vs. Retrieved Chunks\n",
    "4. Retrieval Relevance: Retrieved Chunks vs. Input Question"
   ]
  },
  {
   "cell_type": "code",
   "execution_count": null,
   "metadata": {},
   "outputs": [],
   "source": []
  }
 ],
 "metadata": {
  "kernelspec": {
   "display_name": "pdf-chat-research-DGa1CnBU-py3.13",
   "language": "python",
   "name": "python3"
  },
  "language_info": {
   "codemirror_mode": {
    "name": "ipython",
    "version": 3
   },
   "file_extension": ".py",
   "mimetype": "text/x-python",
   "name": "python",
   "nbconvert_exporter": "python",
   "pygments_lexer": "ipython3",
   "version": "3.13.0"
  }
 },
 "nbformat": 4,
 "nbformat_minor": 2
}
